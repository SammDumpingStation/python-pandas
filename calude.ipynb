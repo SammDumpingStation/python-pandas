{
 "cells": [
  {
   "cell_type": "markdown",
   "metadata": {},
   "source": [
    "## Exercises on Pandas (with Claude)"
   ]
  },
  {
   "cell_type": "markdown",
   "metadata": {},
   "source": [
    "1. How do you:\n",
    "   - Import the pandas library?\n",
    "   - Create a simple DataFrame from a dictionary?\n",
    "   - Read a CSV file into a DataFrame?"
   ]
  },
  {
   "cell_type": "code",
   "execution_count": null,
   "metadata": {},
   "outputs": [],
   "source": [
    "# Importing the pandas library\n",
    "import pandas as pd\n",
    "#Create a simple DataFrame from a dictionary\n",
    "df = pd.DataFrame({\"Name\": ['Samm', 'Vince', 'Rhian', 'Niel'], \"BoD\": ['November', 'May', 'December', \"July\"], \"Age\": ['22', \"19\", \"18\", \"16\"]})\n",
    "\n",
    "# Read a CSV file into a DataFrame\n",
    "cars = pd.read_csv('./car.csv')\n",
    "display(cars)\n"
   ]
  },
  {
   "cell_type": "markdown",
   "metadata": {},
   "source": [
    "2. Create a DataFrame and:\n",
    "- Display the first 2 rows\n",
    "- Display basic information about the DataFrame\n",
    "- Show basic statistics of numerical columns"
   ]
  },
  {
   "cell_type": "code",
   "execution_count": null,
   "metadata": {},
   "outputs": [],
   "source": [
    "data = {\n",
    "    'name': ['John', 'Anna', 'Peter', 'Linda'],\n",
    "    'age': [28, 22, 35, 32],\n",
    "    'city': ['New York', 'Paris', 'London', 'Tokyo']\n",
    "}\n",
    "claude = pd.DataFrame(data);\n",
    "\n",
    "# Display the first 2 rows\n",
    "claude.head(2)\n",
    "# Display basic information about the DataFrame\n",
    "claude.info();\n",
    "# Show basic statistics of numerical columns\n",
    "claude.describe()"
   ]
  },
  {
   "cell_type": "markdown",
   "metadata": {},
   "source": [
    "3. Create a Series (Pandas' one-dimensional array) from a list of numbers [1,3,5,7,9]. Then:\n",
    "- Calculate its mean\n",
    "- Find its maximum value\n",
    "- Add 2 to every number"
   ]
  },
  {
   "cell_type": "code",
   "execution_count": null,
   "metadata": {},
   "outputs": [],
   "source": [
    "series = pd.Series([1,3,5,7,9])\n",
    "\n",
    "# Calculate its mean\n",
    "series.mean()\n",
    "# Find its maximum value\n",
    "series.max()\n",
    "# Add 2 to every number\n",
    "series.add(2)"
   ]
  },
  {
   "cell_type": "markdown",
   "metadata": {},
   "source": [
    "4. How would you:\n",
    "- See the first and last few rows?\n",
    "- Get column names?\n",
    "- Check for missing values?\n",
    "- Get basic statistical information?\n"
   ]
  },
  {
   "cell_type": "code",
   "execution_count": null,
   "metadata": {},
   "outputs": [],
   "source": [
    "tips = pd.read_csv('./claude-sample.csv')\n",
    "\n",
    "# See the first and last few rows?\n",
    "tips.head()\n",
    "tips.tail()\n",
    "# Get column names?\n",
    "tips.columns.to_list()\n",
    "# Check for missing values?\n",
    "tips.isnull().sum()\n",
    "# Get basic statistical information?\n",
    "tips.describe()"
   ]
  },
  {
   "cell_type": "markdown",
   "metadata": {},
   "source": [
    "5. With the same tips dataset:\n",
    "- How many unique values are in the 'day' column?\n",
    "- What's the average tip?\n",
    "- What's the highest total bill?"
   ]
  },
  {
   "cell_type": "code",
   "execution_count": null,
   "metadata": {},
   "outputs": [],
   "source": [
    "# How many unique values are in the 'day' column?\n",
    "tips['day'].nunique()\n",
    "# What's the average tip?\n",
    "tips['tip'].mean()\n",
    "# What's the highest total bill?\n",
    "tips['total_bill'].max()"
   ]
  },
  {
   "cell_type": "markdown",
   "metadata": {},
   "source": [
    "# Data Selection"
   ]
  },
  {
   "cell_type": "markdown",
   "metadata": {},
   "source": [
    "6. Given a DataFrame 'df', how would you:\n",
    "- Select a single column?\n",
    "- Select multiple columns?\n",
    "- Select rows based on a condition (e.g., age > 30)?"
   ]
  },
  {
   "cell_type": "code",
   "execution_count": null,
   "metadata": {},
   "outputs": [],
   "source": [
    "import pandas as pd\n",
    "coffee = pd.read_csv('./warmup-data/coffee.csv')\n",
    "\n",
    "# Select a single column\n",
    "display(coffee.iloc[0:, [0]]) # with iloc (index-based)\n",
    "# Select multiple columns?\n",
    "display(coffee.iloc[0:, [1, 2]]) # with iloc (index-based)\n",
    "# Select rows based on a condition (e.g., age > 30)\n",
    "coffee.loc[coffee['Units Sold'] > 20].sort_values([\"Units Sold\"], ascending=[1]) # added an order"
   ]
  },
  {
   "cell_type": "markdown",
   "metadata": {},
   "source": [
    "7. Practice filtering:\n",
    "- Find all rows where the tip is more than 5\n",
    "- Find all rows where the day is 'Sun' and the time is 'Dinner'\n",
    "- Find the average tip for each day of the week"
   ]
  },
  {
   "cell_type": "code",
   "execution_count": null,
   "metadata": {},
   "outputs": [],
   "source": [
    "tips = pd.read_csv('./claude-sample.csv')\n",
    "# Find all rows where the tip is more than 5\n",
    "tips.loc[tips['tip'] > 5]\n",
    "# Find all rows where the day is 'Sun' and the time is 'Dinner'\n",
    "tips.loc[(tips['day'] == 'Sun') & (tips['time'] == 'Dinner')]\n",
    "# Find the average tip for each day of the week\n",
    "round(tips['tip'].mean(), 2)"
   ]
  },
  {
   "cell_type": "markdown",
   "metadata": {},
   "source": [
    "## Basic Data Manipulation"
   ]
  },
  {
   "cell_type": "markdown",
   "metadata": {},
   "source": [
    "8. How would you:\n",
    "- Add a new column that calculates tip percentage?\n",
    "- Rename a column?\n",
    "- Drop a column?\n",
    "- Handle missing values?"
   ]
  },
  {
   "cell_type": "code",
   "execution_count": null,
   "metadata": {},
   "outputs": [],
   "source": [
    "# - Add a new column that calculates tip percentage\n",
    "tips['percentage'] =  round(tips['tip'] / tips['total_bill'] * 100)\n",
    "tips.iloc[0:5, [0,1,-1]]\n",
    "# - Rename a column\n",
    "tips.rename(columns={'percentage':'tip_percent'}, inplace=True)\n",
    "display(tips)\n",
    "# - Drop a column\n",
    "tips.drop(columns=['tip_percent'], inplace=True)\n",
    "# - Handle missing values\n",
    "tips.dropna()"
   ]
  },
  {
   "cell_type": "markdown",
   "metadata": {},
   "source": [
    "9. Sort the DataFrame:\n",
    "- By total bill in descending order\n",
    "- By day of the week and then by total bill\n",
    "- By tip percentage you calculated earlier"
   ]
  },
  {
   "cell_type": "code",
   "execution_count": null,
   "metadata": {},
   "outputs": [],
   "source": [
    "# By total bill in descending order\n",
    "tips.sort_values(['total_bill'], ascending=[0])\n",
    "\n",
    "# By day of the week and then by total bill\n",
    "tips.sort_values(['day', 'total_bill'], ascending=[0,0])\n",
    "# Categorical Version of this\n",
    "days_order = ['Mon', 'Tue', 'Wed', 'Thur', 'Fri', 'Sat', 'Sun']\n",
    "tips['day'] = pd.Categorical(tips['day'], categories=days_order, ordered=True) #this code assigns a Categorical order of the Day Column\n",
    "tips.sort_values(['day', 'total_bill'], ascending=[1,0])\n",
    "# By tip percentage you calculated earlier\n",
    "tips['percentage'] =  round(tips['tip'] / tips['total_bill'] * 100)\n",
    "tips.sort_values(['percentage'], ascending=[1])"
   ]
  }
 ],
 "metadata": {
  "kernelspec": {
   "display_name": ".venv",
   "language": "python",
   "name": "python3"
  },
  "language_info": {
   "codemirror_mode": {
    "name": "ipython",
    "version": 3
   },
   "file_extension": ".py",
   "mimetype": "text/x-python",
   "name": "python",
   "nbconvert_exporter": "python",
   "pygments_lexer": "ipython3",
   "version": "3.13.1"
  }
 },
 "nbformat": 4,
 "nbformat_minor": 2
}
